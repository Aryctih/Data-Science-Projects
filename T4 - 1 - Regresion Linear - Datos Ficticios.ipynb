{
 "cells": [
  {
   "cell_type": "markdown",
   "metadata": {},
   "source": [
    "# Modelos de Regresión Lineal\n",
    "## Modelo con datos simulados\n",
    "* y= a + b * x\n",
    "* x : 100 valores distribuidos según una N(1.5, 2.5)\n",
    "* Yestimada = 5 + 1.1 * x + e\n",
    "* e : estará distribuida según una N(0, 0.8)"
   ]
  },
  {
   "cell_type": "code",
   "execution_count": 201,
   "metadata": {},
   "outputs": [],
   "source": [
    "import pandas as pd\n",
    "import numpy as np"
   ]
  },
  {
   "cell_type": "code",
   "execution_count": 202,
   "metadata": {},
   "outputs": [],
   "source": [
    "x = 1.5 + 2.5 * np.random.randn(100)"
   ]
  },
  {
   "cell_type": "code",
   "execution_count": 203,
   "metadata": {},
   "outputs": [],
   "source": [
    "res = 0 + 0.8 * np.random.randn(100)"
   ]
  },
  {
   "cell_type": "code",
   "execution_count": 204,
   "metadata": {},
   "outputs": [],
   "source": [
    "y_prediccion = 5 + 1.1 * x"
   ]
  },
  {
   "cell_type": "code",
   "execution_count": 205,
   "metadata": {},
   "outputs": [],
   "source": [
    "y_act = 5 + 1.1 * x + res"
   ]
  },
  {
   "cell_type": "code",
   "execution_count": 206,
   "metadata": {},
   "outputs": [],
   "source": [
    "x_list = x.tolist()\n",
    "y_pred_list = y_prediccion.tolist()\n",
    "y_act_list = y_act.tolist()"
   ]
  },
  {
   "cell_type": "code",
   "execution_count": 207,
   "metadata": {},
   "outputs": [],
   "source": [
    "data = pd.DataFrame(\n",
    "    {\n",
    "        \"x\":x_list,\n",
    "        \"y_actual\":y_act_list,\n",
    "        \"y_prediccion\":y_pred_list\n",
    "        \n",
    "    }\n",
    ")"
   ]
  },
  {
   "cell_type": "code",
   "execution_count": 208,
   "metadata": {},
   "outputs": [
    {
     "data": {
      "text/html": [
       "<div>\n",
       "<style scoped>\n",
       "    .dataframe tbody tr th:only-of-type {\n",
       "        vertical-align: middle;\n",
       "    }\n",
       "\n",
       "    .dataframe tbody tr th {\n",
       "        vertical-align: top;\n",
       "    }\n",
       "\n",
       "    .dataframe thead th {\n",
       "        text-align: right;\n",
       "    }\n",
       "</style>\n",
       "<table border=\"1\" class=\"dataframe\">\n",
       "  <thead>\n",
       "    <tr style=\"text-align: right;\">\n",
       "      <th></th>\n",
       "      <th>x</th>\n",
       "      <th>y_actual</th>\n",
       "      <th>y_prediccion</th>\n",
       "    </tr>\n",
       "  </thead>\n",
       "  <tbody>\n",
       "    <tr>\n",
       "      <th>0</th>\n",
       "      <td>1.871245</td>\n",
       "      <td>7.056189</td>\n",
       "      <td>7.058369</td>\n",
       "    </tr>\n",
       "    <tr>\n",
       "      <th>1</th>\n",
       "      <td>2.045640</td>\n",
       "      <td>5.945999</td>\n",
       "      <td>7.250204</td>\n",
       "    </tr>\n",
       "    <tr>\n",
       "      <th>2</th>\n",
       "      <td>3.759038</td>\n",
       "      <td>9.055909</td>\n",
       "      <td>9.134941</td>\n",
       "    </tr>\n",
       "    <tr>\n",
       "      <th>3</th>\n",
       "      <td>2.799086</td>\n",
       "      <td>8.390041</td>\n",
       "      <td>8.078995</td>\n",
       "    </tr>\n",
       "    <tr>\n",
       "      <th>4</th>\n",
       "      <td>0.809931</td>\n",
       "      <td>5.047534</td>\n",
       "      <td>5.890924</td>\n",
       "    </tr>\n",
       "    <tr>\n",
       "      <th>...</th>\n",
       "      <td>...</td>\n",
       "      <td>...</td>\n",
       "      <td>...</td>\n",
       "    </tr>\n",
       "    <tr>\n",
       "      <th>95</th>\n",
       "      <td>6.464169</td>\n",
       "      <td>13.867823</td>\n",
       "      <td>12.110585</td>\n",
       "    </tr>\n",
       "    <tr>\n",
       "      <th>96</th>\n",
       "      <td>4.521749</td>\n",
       "      <td>9.679750</td>\n",
       "      <td>9.973924</td>\n",
       "    </tr>\n",
       "    <tr>\n",
       "      <th>97</th>\n",
       "      <td>2.603534</td>\n",
       "      <td>8.971126</td>\n",
       "      <td>7.863887</td>\n",
       "    </tr>\n",
       "    <tr>\n",
       "      <th>98</th>\n",
       "      <td>0.123907</td>\n",
       "      <td>5.143721</td>\n",
       "      <td>5.136298</td>\n",
       "    </tr>\n",
       "    <tr>\n",
       "      <th>99</th>\n",
       "      <td>3.866059</td>\n",
       "      <td>8.365729</td>\n",
       "      <td>9.252665</td>\n",
       "    </tr>\n",
       "  </tbody>\n",
       "</table>\n",
       "<p>100 rows × 3 columns</p>\n",
       "</div>"
      ],
      "text/plain": [
       "           x   y_actual  y_prediccion\n",
       "0   1.871245   7.056189      7.058369\n",
       "1   2.045640   5.945999      7.250204\n",
       "2   3.759038   9.055909      9.134941\n",
       "3   2.799086   8.390041      8.078995\n",
       "4   0.809931   5.047534      5.890924\n",
       "..       ...        ...           ...\n",
       "95  6.464169  13.867823     12.110585\n",
       "96  4.521749   9.679750      9.973924\n",
       "97  2.603534   8.971126      7.863887\n",
       "98  0.123907   5.143721      5.136298\n",
       "99  3.866059   8.365729      9.252665\n",
       "\n",
       "[100 rows x 3 columns]"
      ]
     },
     "execution_count": 208,
     "metadata": {},
     "output_type": "execute_result"
    }
   ],
   "source": [
    "data"
   ]
  },
  {
   "cell_type": "code",
   "execution_count": 209,
   "metadata": {},
   "outputs": [],
   "source": [
    "import matplotlib.pyplot as plt"
   ]
  },
  {
   "cell_type": "code",
   "execution_count": 210,
   "metadata": {},
   "outputs": [
    {
     "data": {
      "text/plain": [
       "Text(0.5, 1.0, 'Valor Actual vs Prediccion')"
      ]
     },
     "execution_count": 210,
     "metadata": {},
     "output_type": "execute_result"
    },
    {
     "data": {
      "image/png": "[encoded data removed]",
      "text/plain": [
       "<Figure size 432x288 with 1 Axes>"
      ]
     },
     "metadata": {
      "needs_background": "light"
     },
     "output_type": "display_data"
    }
   ],
   "source": [
    "plt.plot(x,y_prediccion, \"r\") #5 + 1.1 * x \n",
    "plt.plot(x,y_act, \"bo\") #5 + 1.1 * x + res\n",
    "plt.title(\"Valor Actual vs Prediccion\")"
   ]
  },
  {
   "cell_type": "code",
   "execution_count": 211,
   "metadata": {},
   "outputs": [],
   "source": [
    "y_mean = [np.mean(y_act) for i in range (1, len(x_list) + 1)]"
   ]
  },
  {
   "cell_type": "code",
   "execution_count": 212,
   "metadata": {},
   "outputs": [
    {
     "data": {
      "text/plain": [
       "Text(0.5, 1.0, 'Valor Actual vs Prediccion')"
      ]
     },
     "execution_count": 212,
     "metadata": {},
     "output_type": "execute_result"
    },
    {
     "data": {
      "image/png": "[encoded data removed]",
      "text/plain": [
       "<Figure size 432x288 with 1 Axes>"
      ]
     },
     "metadata": {
      "needs_background": "light"
     },
     "output_type": "display_data"
    }
   ],
   "source": [
    "plt.plot(x,y_prediccion, \"r\") #5 + 1.1 * x \n",
    "plt.plot(x,y_act, \"bo\") #5 + 1.1 * x + res\n",
    "plt.plot(x,y_mean, \"g\")\n",
    "plt.title(\"Valor Actual vs Prediccion\")"
   ]
  },
  {
   "cell_type": "code",
   "execution_count": 213,
   "metadata": {},
   "outputs": [
    {
     "data": {
      "image/png": "[encoded data removed]",
      "text/plain": [
       "<IPython.core.display.Image object>"
      ]
     },
     "execution_count": 213,
     "metadata": {},
     "output_type": "execute_result"
    }
   ],
   "source": [
    "from IPython.display import Image\n",
    "Image(filename=\"../resources/regresion1.png\")"
   ]
  },
  {
   "cell_type": "markdown",
   "metadata": {},
   "source": [
    "El punto azul es un valor observado del modelo actual (y_act)\n",
    "\n",
    "La distancia entre el valor observado y el modelo (linea roja) se denomina SSD (Suma de los cuadrados de las diferencias)\n",
    "\n",
    "La distancia entre el valor observado y el promedio (linea verde) se denomina SST (Suma de los cuadrados totales)\n",
    "\n",
    "La distancia entre el modelo (linea roja) y el promedio (linea verde) Se denomina SSR (Suma de los cuadrados de la regresión)"
   ]
  },
  {
   "cell_type": "markdown",
   "metadata": {},
   "source": [
    "SST = SSR + SSD"
   ]
  },
  {
   "cell_type": "markdown",
   "metadata": {},
   "source": [
    "SSR tendria que ser mas grande que SSD, tanto asi que sea SST == SSR"
   ]
  },
  {
   "cell_type": "markdown",
   "metadata": {},
   "source": [
    "R^2 = SSR/SST"
   ]
  },
  {
   "cell_type": "markdown",
   "metadata": {},
   "source": [
    "un modelo con R^2 cercano a 1 es mas relevante"
   ]
  },
  {
   "cell_type": "code",
   "execution_count": 214,
   "metadata": {},
   "outputs": [],
   "source": [
    "data[\"SSR\"] = (data[\"y_prediccion\"] - np.mean(y_act))**2 # diferencia entre la regresion y el promedio\n",
    "data[\"SSD\"] = (data[\"y_actual\"]- data[\"y_prediccion\"])**2\n",
    "data[\"SST\"] = (data[\"y_actual\"] - np.mean(y_act))**2\n"
   ]
  },
  {
   "cell_type": "code",
   "execution_count": 215,
   "metadata": {},
   "outputs": [
    {
     "data": {
      "text/html": [
       "<div>\n",
       "<style scoped>\n",
       "    .dataframe tbody tr th:only-of-type {\n",
       "        vertical-align: middle;\n",
       "    }\n",
       "\n",
       "    .dataframe tbody tr th {\n",
       "        vertical-align: top;\n",
       "    }\n",
       "\n",
       "    .dataframe thead th {\n",
       "        text-align: right;\n",
       "    }\n",
       "</style>\n",
       "<table border=\"1\" class=\"dataframe\">\n",
       "  <thead>\n",
       "    <tr style=\"text-align: right;\">\n",
       "      <th></th>\n",
       "      <th>x</th>\n",
       "      <th>y_actual</th>\n",
       "      <th>y_prediccion</th>\n",
       "      <th>SSR</th>\n",
       "      <th>SSD</th>\n",
       "      <th>SST</th>\n",
       "    </tr>\n",
       "  </thead>\n",
       "  <tbody>\n",
       "    <tr>\n",
       "      <th>0</th>\n",
       "      <td>1.871245</td>\n",
       "      <td>7.056189</td>\n",
       "      <td>7.058369</td>\n",
       "      <td>0.116242</td>\n",
       "      <td>0.000005</td>\n",
       "      <td>0.114760</td>\n",
       "    </tr>\n",
       "    <tr>\n",
       "      <th>1</th>\n",
       "      <td>2.045640</td>\n",
       "      <td>5.945999</td>\n",
       "      <td>7.250204</td>\n",
       "      <td>0.283852</td>\n",
       "      <td>1.700950</td>\n",
       "      <td>0.595100</td>\n",
       "    </tr>\n",
       "    <tr>\n",
       "      <th>2</th>\n",
       "      <td>3.759038</td>\n",
       "      <td>9.055909</td>\n",
       "      <td>9.134941</td>\n",
       "      <td>5.844382</td>\n",
       "      <td>0.006246</td>\n",
       "      <td>5.468504</td>\n",
       "    </tr>\n",
       "    <tr>\n",
       "      <th>3</th>\n",
       "      <td>2.799086</td>\n",
       "      <td>8.390041</td>\n",
       "      <td>8.078995</td>\n",
       "      <td>1.853870</td>\n",
       "      <td>0.096750</td>\n",
       "      <td>2.797641</td>\n",
       "    </tr>\n",
       "    <tr>\n",
       "      <th>4</th>\n",
       "      <td>0.809931</td>\n",
       "      <td>5.047534</td>\n",
       "      <td>5.890924</td>\n",
       "      <td>0.683105</td>\n",
       "      <td>0.711306</td>\n",
       "      <td>2.788538</td>\n",
       "    </tr>\n",
       "    <tr>\n",
       "      <th>...</th>\n",
       "      <td>...</td>\n",
       "      <td>...</td>\n",
       "      <td>...</td>\n",
       "      <td>...</td>\n",
       "      <td>...</td>\n",
       "      <td>...</td>\n",
       "    </tr>\n",
       "    <tr>\n",
       "      <th>95</th>\n",
       "      <td>6.464169</td>\n",
       "      <td>13.867823</td>\n",
       "      <td>12.110585</td>\n",
       "      <td>29.086170</td>\n",
       "      <td>3.087885</td>\n",
       "      <td>51.128186</td>\n",
       "    </tr>\n",
       "    <tr>\n",
       "      <th>96</th>\n",
       "      <td>4.521749</td>\n",
       "      <td>9.679750</td>\n",
       "      <td>9.973924</td>\n",
       "      <td>10.604783</td>\n",
       "      <td>0.086539</td>\n",
       "      <td>8.775365</td>\n",
       "    </tr>\n",
       "    <tr>\n",
       "      <th>97</th>\n",
       "      <td>2.603534</td>\n",
       "      <td>8.971126</td>\n",
       "      <td>7.863887</td>\n",
       "      <td>1.314374</td>\n",
       "      <td>1.225977</td>\n",
       "      <td>5.079164</td>\n",
       "    </tr>\n",
       "    <tr>\n",
       "      <th>98</th>\n",
       "      <td>0.123907</td>\n",
       "      <td>5.143721</td>\n",
       "      <td>5.136298</td>\n",
       "      <td>2.499965</td>\n",
       "      <td>0.000055</td>\n",
       "      <td>2.476547</td>\n",
       "    </tr>\n",
       "    <tr>\n",
       "      <th>99</th>\n",
       "      <td>3.866059</td>\n",
       "      <td>8.365729</td>\n",
       "      <td>9.252665</td>\n",
       "      <td>6.427438</td>\n",
       "      <td>0.786655</td>\n",
       "      <td>2.716904</td>\n",
       "    </tr>\n",
       "  </tbody>\n",
       "</table>\n",
       "<p>100 rows × 6 columns</p>\n",
       "</div>"
      ],
      "text/plain": [
       "           x   y_actual  y_prediccion        SSR       SSD        SST\n",
       "0   1.871245   7.056189      7.058369   0.116242  0.000005   0.114760\n",
       "1   2.045640   5.945999      7.250204   0.283852  1.700950   0.595100\n",
       "2   3.759038   9.055909      9.134941   5.844382  0.006246   5.468504\n",
       "3   2.799086   8.390041      8.078995   1.853870  0.096750   2.797641\n",
       "4   0.809931   5.047534      5.890924   0.683105  0.711306   2.788538\n",
       "..       ...        ...           ...        ...       ...        ...\n",
       "95  6.464169  13.867823     12.110585  29.086170  3.087885  51.128186\n",
       "96  4.521749   9.679750      9.973924  10.604783  0.086539   8.775365\n",
       "97  2.603534   8.971126      7.863887   1.314374  1.225977   5.079164\n",
       "98  0.123907   5.143721      5.136298   2.499965  0.000055   2.476547\n",
       "99  3.866059   8.365729      9.252665   6.427438  0.786655   2.716904\n",
       "\n",
       "[100 rows x 6 columns]"
      ]
     },
     "execution_count": 215,
     "metadata": {},
     "output_type": "execute_result"
    }
   ],
   "source": [
    "data"
   ]
  },
  {
   "cell_type": "code",
   "execution_count": 216,
   "metadata": {},
   "outputs": [],
   "source": [
    "SSR = sum(data[\"SSR\"])\n",
    "SSD = sum(data[\"SSD\"])\n",
    "SST = sum(data[\"SST\"])"
   ]
  },
  {
   "cell_type": "code",
   "execution_count": 217,
   "metadata": {},
   "outputs": [
    {
     "data": {
      "text/plain": [
       "642.3334469998213"
      ]
     },
     "execution_count": 217,
     "metadata": {},
     "output_type": "execute_result"
    }
   ],
   "source": [
    "SSR"
   ]
  },
  {
   "cell_type": "code",
   "execution_count": 218,
   "metadata": {},
   "outputs": [
    {
     "data": {
      "text/plain": [
       "68.21867362002388"
      ]
     },
     "execution_count": 218,
     "metadata": {},
     "output_type": "execute_result"
    }
   ],
   "source": [
    "SSD"
   ]
  },
  {
   "cell_type": "code",
   "execution_count": 219,
   "metadata": {},
   "outputs": [
    {
     "data": {
      "text/plain": [
       "721.7302152486664"
      ]
     },
     "execution_count": 219,
     "metadata": {},
     "output_type": "execute_result"
    }
   ],
   "source": [
    "SST"
   ]
  },
  {
   "cell_type": "code",
   "execution_count": 220,
   "metadata": {},
   "outputs": [
    {
     "data": {
      "text/plain": [
       "710.5521206198451"
      ]
     },
     "execution_count": 220,
     "metadata": {},
     "output_type": "execute_result"
    }
   ],
   "source": [
    "SSR+SSD"
   ]
  },
  {
   "cell_type": "code",
   "execution_count": 221,
   "metadata": {},
   "outputs": [],
   "source": [
    "R2 = SSR/SST"
   ]
  },
  {
   "cell_type": "code",
   "execution_count": 222,
   "metadata": {},
   "outputs": [
    {
     "data": {
      "text/plain": [
       "0.8899910706641406"
      ]
     },
     "execution_count": 222,
     "metadata": {},
     "output_type": "execute_result"
    }
   ],
   "source": [
    "R2"
   ]
  },
  {
   "cell_type": "markdown",
   "metadata": {},
   "source": [
    "La preddicion de y es un valor bastante asertado"
   ]
  },
  {
   "cell_type": "code",
   "execution_count": 223,
   "metadata": {},
   "outputs": [],
   "source": [
    "SSD2 = data[\"SSD\"] = (data[\"y_actual\"]- data[\"y_prediccion\"])"
   ]
  },
  {
   "cell_type": "code",
   "execution_count": 224,
   "metadata": {},
   "outputs": [
    {
     "data": {
      "text/plain": [
       "(array([ 3.,  5., 13., 10., 24., 14., 17., 10.,  2.,  2.]),\n",
       " array([-1.97324184, -1.56208135, -1.15092087, -0.73976039, -0.32859991,\n",
       "         0.08256058,  0.49372106,  0.90488154,  1.31604202,  1.72720251,\n",
       "         2.13836299]),\n",
       " <BarContainer object of 10 artists>)"
      ]
     },
     "execution_count": 224,
     "metadata": {},
     "output_type": "execute_result"
    },
    {
     "data": {
      "image/png": "[encoded data removed]",
      "text/plain": [
       "<Figure size 432x288 with 1 Axes>"
      ]
     },
     "metadata": {
      "needs_background": "light"
     },
     "output_type": "display_data"
    }
   ],
   "source": [
    "plt.hist(SSD2)"
   ]
  },
  {
   "cell_type": "markdown",
   "metadata": {},
   "source": [
    "# Ahora obtendremos una recta a partir de un modelo\n",
    "## Vamos a obtener ahora la recta de regresión\n",
    "\n",
    "* y = a + b * x\n",
    "* b = sum((xi-xm)*(yi-ym)/ sum((xi-xm)^2)\n",
    "* a = ym - b * xm"
   ]
  },
  {
   "cell_type": "code",
   "execution_count": 225,
   "metadata": {},
   "outputs": [
    {
     "data": {
      "text/plain": [
       "(1.5682467817308525, 6.717425807620839)"
      ]
     },
     "execution_count": 225,
     "metadata": {},
     "output_type": "execute_result"
    }
   ],
   "source": [
    "x_mean = np.mean(data[\"x\"])\n",
    "y_mean = np.mean(data[\"y_actual\"])\n",
    "x_mean,y_mean"
   ]
  },
  {
   "cell_type": "code",
   "execution_count": 226,
   "metadata": {},
   "outputs": [],
   "source": [
    "data[\"numerador_beta\"] = ((data[\"x\"]-x_mean)*(data[\"y_actual\"]-y_mean))\n",
    "data[\"denominador_beta\"] = (data[\"x\"]-x_mean)**2"
   ]
  },
  {
   "cell_type": "code",
   "execution_count": 227,
   "metadata": {},
   "outputs": [],
   "source": [
    "beta = sum(data[\"numerador_beta\"]/sum(data[\"denominador_beta\"]))"
   ]
  },
  {
   "cell_type": "code",
   "execution_count": 228,
   "metadata": {},
   "outputs": [],
   "source": [
    "alpha = y_mean - beta * x_mean"
   ]
  },
  {
   "cell_type": "code",
   "execution_count": 239,
   "metadata": {},
   "outputs": [
    {
     "data": {
      "text/plain": [
       "(4.977328385783096, 1.109581375908976)"
      ]
     },
     "execution_count": 239,
     "metadata": {},
     "output_type": "execute_result"
    }
   ],
   "source": [
    "alpha, beta"
   ]
  },
  {
   "cell_type": "markdown",
   "metadata": {},
   "source": [
    "Esto indica que el modelo será\n"
   ]
  },
  {
   "cell_type": "code",
   "execution_count": 246,
   "metadata": {},
   "outputs": [
    {
     "data": {
      "text/plain": [
       "' y =  4.977328385783096 + 1.109581375908976 * X'"
      ]
     },
     "execution_count": 246,
     "metadata": {},
     "output_type": "execute_result"
    }
   ],
   "source": [
    "a = \" y =  \" + str(alpha) + \" + \" + str(beta) + \" * X\"\n",
    "a"
   ]
  },
  {
   "cell_type": "code",
   "execution_count": 230,
   "metadata": {},
   "outputs": [],
   "source": [
    "data[\"y_model\"] = alpha + beta * data[\"x\"]"
   ]
  },
  {
   "cell_type": "code",
   "execution_count": 231,
   "metadata": {},
   "outputs": [
    {
     "data": {
      "text/html": [
       "<div>\n",
       "<style scoped>\n",
       "    .dataframe tbody tr th:only-of-type {\n",
       "        vertical-align: middle;\n",
       "    }\n",
       "\n",
       "    .dataframe tbody tr th {\n",
       "        vertical-align: top;\n",
       "    }\n",
       "\n",
       "    .dataframe thead th {\n",
       "        text-align: right;\n",
       "    }\n",
       "</style>\n",
       "<table border=\"1\" class=\"dataframe\">\n",
       "  <thead>\n",
       "    <tr style=\"text-align: right;\">\n",
       "      <th></th>\n",
       "      <th>x</th>\n",
       "      <th>y_actual</th>\n",
       "      <th>y_prediccion</th>\n",
       "      <th>SSR</th>\n",
       "      <th>SSD</th>\n",
       "      <th>SST</th>\n",
       "      <th>numerador_beta</th>\n",
       "      <th>denominador_beta</th>\n",
       "      <th>y_model</th>\n",
       "    </tr>\n",
       "  </thead>\n",
       "  <tbody>\n",
       "    <tr>\n",
       "      <th>0</th>\n",
       "      <td>1.871245</td>\n",
       "      <td>7.056189</td>\n",
       "      <td>7.058369</td>\n",
       "      <td>0.116242</td>\n",
       "      <td>-0.002180</td>\n",
       "      <td>0.114760</td>\n",
       "      <td>0.102644</td>\n",
       "      <td>0.091808</td>\n",
       "      <td>7.053627</td>\n",
       "    </tr>\n",
       "    <tr>\n",
       "      <th>1</th>\n",
       "      <td>2.045640</td>\n",
       "      <td>5.945999</td>\n",
       "      <td>7.250204</td>\n",
       "      <td>0.283852</td>\n",
       "      <td>-1.304205</td>\n",
       "      <td>0.595100</td>\n",
       "      <td>-0.368274</td>\n",
       "      <td>0.227904</td>\n",
       "      <td>7.247132</td>\n",
       "    </tr>\n",
       "    <tr>\n",
       "      <th>2</th>\n",
       "      <td>3.759038</td>\n",
       "      <td>9.055909</td>\n",
       "      <td>9.134941</td>\n",
       "      <td>5.844382</td>\n",
       "      <td>-0.079032</td>\n",
       "      <td>5.468504</td>\n",
       "      <td>5.123128</td>\n",
       "      <td>4.799564</td>\n",
       "      <td>9.148287</td>\n",
       "    </tr>\n",
       "    <tr>\n",
       "      <th>3</th>\n",
       "      <td>2.799086</td>\n",
       "      <td>8.390041</td>\n",
       "      <td>8.078995</td>\n",
       "      <td>1.853870</td>\n",
       "      <td>0.311046</td>\n",
       "      <td>2.797641</td>\n",
       "      <td>2.058721</td>\n",
       "      <td>1.514966</td>\n",
       "      <td>8.083142</td>\n",
       "    </tr>\n",
       "    <tr>\n",
       "      <th>4</th>\n",
       "      <td>0.809931</td>\n",
       "      <td>5.047534</td>\n",
       "      <td>5.890924</td>\n",
       "      <td>0.683105</td>\n",
       "      <td>-0.843390</td>\n",
       "      <td>2.788538</td>\n",
       "      <td>1.266305</td>\n",
       "      <td>0.575043</td>\n",
       "      <td>5.876013</td>\n",
       "    </tr>\n",
       "    <tr>\n",
       "      <th>...</th>\n",
       "      <td>...</td>\n",
       "      <td>...</td>\n",
       "      <td>...</td>\n",
       "      <td>...</td>\n",
       "      <td>...</td>\n",
       "      <td>...</td>\n",
       "      <td>...</td>\n",
       "      <td>...</td>\n",
       "      <td>...</td>\n",
       "    </tr>\n",
       "    <tr>\n",
       "      <th>95</th>\n",
       "      <td>6.464169</td>\n",
       "      <td>13.867823</td>\n",
       "      <td>12.110585</td>\n",
       "      <td>29.086170</td>\n",
       "      <td>1.757238</td>\n",
       "      <td>51.128186</td>\n",
       "      <td>35.007787</td>\n",
       "      <td>23.970050</td>\n",
       "      <td>12.149849</td>\n",
       "    </tr>\n",
       "    <tr>\n",
       "      <th>96</th>\n",
       "      <td>4.521749</td>\n",
       "      <td>9.679750</td>\n",
       "      <td>9.973924</td>\n",
       "      <td>10.604783</td>\n",
       "      <td>-0.294174</td>\n",
       "      <td>8.775365</td>\n",
       "      <td>8.749233</td>\n",
       "      <td>8.723178</td>\n",
       "      <td>9.994577</td>\n",
       "    </tr>\n",
       "    <tr>\n",
       "      <th>97</th>\n",
       "      <td>2.603534</td>\n",
       "      <td>8.971126</td>\n",
       "      <td>7.863887</td>\n",
       "      <td>1.314374</td>\n",
       "      <td>1.107239</td>\n",
       "      <td>5.079164</td>\n",
       "      <td>2.333227</td>\n",
       "      <td>1.071819</td>\n",
       "      <td>7.866161</td>\n",
       "    </tr>\n",
       "    <tr>\n",
       "      <th>98</th>\n",
       "      <td>0.123907</td>\n",
       "      <td>5.143721</td>\n",
       "      <td>5.136298</td>\n",
       "      <td>2.499965</td>\n",
       "      <td>0.007423</td>\n",
       "      <td>2.476547</td>\n",
       "      <td>2.272964</td>\n",
       "      <td>2.086116</td>\n",
       "      <td>5.114814</td>\n",
       "    </tr>\n",
       "    <tr>\n",
       "      <th>99</th>\n",
       "      <td>3.866059</td>\n",
       "      <td>8.365729</td>\n",
       "      <td>9.252665</td>\n",
       "      <td>6.427438</td>\n",
       "      <td>-0.886936</td>\n",
       "      <td>2.716904</td>\n",
       "      <td>3.787492</td>\n",
       "      <td>5.279942</td>\n",
       "      <td>9.267036</td>\n",
       "    </tr>\n",
       "  </tbody>\n",
       "</table>\n",
       "<p>100 rows × 9 columns</p>\n",
       "</div>"
      ],
      "text/plain": [
       "           x   y_actual  y_prediccion        SSR       SSD        SST  \\\n",
       "0   1.871245   7.056189      7.058369   0.116242 -0.002180   0.114760   \n",
       "1   2.045640   5.945999      7.250204   0.283852 -1.304205   0.595100   \n",
       "2   3.759038   9.055909      9.134941   5.844382 -0.079032   5.468504   \n",
       "3   2.799086   8.390041      8.078995   1.853870  0.311046   2.797641   \n",
       "4   0.809931   5.047534      5.890924   0.683105 -0.843390   2.788538   \n",
       "..       ...        ...           ...        ...       ...        ...   \n",
       "95  6.464169  13.867823     12.110585  29.086170  1.757238  51.128186   \n",
       "96  4.521749   9.679750      9.973924  10.604783 -0.294174   8.775365   \n",
       "97  2.603534   8.971126      7.863887   1.314374  1.107239   5.079164   \n",
       "98  0.123907   5.143721      5.136298   2.499965  0.007423   2.476547   \n",
       "99  3.866059   8.365729      9.252665   6.427438 -0.886936   2.716904   \n",
       "\n",
       "    numerador_beta  denominador_beta    y_model  \n",
       "0         0.102644          0.091808   7.053627  \n",
       "1        -0.368274          0.227904   7.247132  \n",
       "2         5.123128          4.799564   9.148287  \n",
       "3         2.058721          1.514966   8.083142  \n",
       "4         1.266305          0.575043   5.876013  \n",
       "..             ...               ...        ...  \n",
       "95       35.007787         23.970050  12.149849  \n",
       "96        8.749233          8.723178   9.994577  \n",
       "97        2.333227          1.071819   7.866161  \n",
       "98        2.272964          2.086116   5.114814  \n",
       "99        3.787492          5.279942   9.267036  \n",
       "\n",
       "[100 rows x 9 columns]"
      ]
     },
     "execution_count": 231,
     "metadata": {},
     "output_type": "execute_result"
    }
   ],
   "source": [
    "data"
   ]
  },
  {
   "cell_type": "code",
   "execution_count": 232,
   "metadata": {},
   "outputs": [],
   "source": [
    "SSR = sum((data[\"y_model\"]-y_mean)**2)\n",
    "SSD = sum((data[\"y_model\"]-data[\"y_actual\"])**2)\n",
    "SST = sum((data[\"y_actual\"]-y_mean)**2)"
   ]
  },
  {
   "cell_type": "code",
   "execution_count": 233,
   "metadata": {},
   "outputs": [
    {
     "data": {
      "text/plain": [
       "(653.5661206577829, 68.1640945908838, 721.7302152486664)"
      ]
     },
     "execution_count": 233,
     "metadata": {},
     "output_type": "execute_result"
    }
   ],
   "source": [
    "SSR, SSD, SST"
   ]
  },
  {
   "cell_type": "code",
   "execution_count": 234,
   "metadata": {},
   "outputs": [],
   "source": [
    "R2_nuevo = SSR / SST"
   ]
  },
  {
   "cell_type": "code",
   "execution_count": 235,
   "metadata": {},
   "outputs": [
    {
     "data": {
      "text/plain": [
       "0.9055546059306966"
      ]
     },
     "execution_count": 235,
     "metadata": {},
     "output_type": "execute_result"
    }
   ],
   "source": [
    "R2_nuevo"
   ]
  },
  {
   "cell_type": "code",
   "execution_count": 236,
   "metadata": {},
   "outputs": [
    {
     "data": {
      "text/plain": [
       "(0.8899910706641406, 0.9055546059306966)"
      ]
     },
     "execution_count": 236,
     "metadata": {},
     "output_type": "execute_result"
    }
   ],
   "source": [
    "R2, R2_nuevo"
   ]
  },
  {
   "cell_type": "markdown",
   "metadata": {},
   "source": [
    "Es un poco mejor el nuevo"
   ]
  },
  {
   "cell_type": "code",
   "execution_count": 237,
   "metadata": {},
   "outputs": [
    {
     "data": {
      "text/plain": [
       "Text(0.5, 1.0, 'Valor Actual vs Prediccion')"
      ]
     },
     "execution_count": 237,
     "metadata": {},
     "output_type": "execute_result"
    },
    {
     "data": {
      "image/png": "[encoded data removed]",
      "text/plain": [
       "<Figure size 432x288 with 1 Axes>"
      ]
     },
     "metadata": {
      "needs_background": "light"
     },
     "output_type": "display_data"
    }
   ],
   "source": [
    "y_mean2 = [np.mean(y_act) for i in range (1, len(x_list) + 1)]\n",
    "\n",
    "plt.plot(data[\"x\"],data[\"y_prediccion\"], \"r\") #5 + 1.1 * x \n",
    "plt.plot(data[\"x\"],data[\"y_actual\"], \"bo\") #5 + 1.1 * x + res\n",
    "plt.plot(data[\"x\"],y_mean2, \"g\")\n",
    "plt.plot(data[\"x\"],data[\"y_model\"]) # <----- otra recta muy ensimada puesto que una es representativa en 0.95 y la otra 0.93\n",
    "\n",
    "plt.title(\"Valor Actual vs Prediccion\")"
   ]
  },
  {
   "cell_type": "markdown",
   "metadata": {},
   "source": [
    "## ¿ Que otros estadisticos aparte de R^2 podemos observar para determinar la eficacia de una regresión?"
   ]
  },
  {
   "cell_type": "markdown",
   "metadata": {},
   "source": [
    "### Error estándar de los residuos (RSE)"
   ]
  },
  {
   "cell_type": "code",
   "execution_count": 252,
   "metadata": {},
   "outputs": [
    {
     "data": {
      "text/plain": [
       "0.833997593294647"
      ]
     },
     "execution_count": 252,
     "metadata": {},
     "output_type": "execute_result"
    }
   ],
   "source": [
    "RSE = np.sqrt(SSD/(len(data)-2))\n",
    "RSE # cuanto menor sea mejor"
   ]
  },
  {
   "cell_type": "code",
   "execution_count": 253,
   "metadata": {},
   "outputs": [
    {
     "data": {
      "text/plain": [
       "6.717425807620839"
      ]
     },
     "execution_count": 253,
     "metadata": {},
     "output_type": "execute_result"
    }
   ],
   "source": [
    "np.mean(data[\"y_actual\"])"
   ]
  },
  {
   "cell_type": "code",
   "execution_count": 254,
   "metadata": {},
   "outputs": [
    {
     "data": {
      "text/plain": [
       "0.12415434381850361"
      ]
     },
     "execution_count": 254,
     "metadata": {},
     "output_type": "execute_result"
    }
   ],
   "source": [
    "RSE / np.mean(data[\"y_actual\"])"
   ]
  },
  {
   "cell_type": "code",
   "execution_count": 255,
   "metadata": {},
   "outputs": [],
   "source": [
    "# se observa incrementos de un entorno del 12% del error debido al uso del modelo"
   ]
  },
  {
   "cell_type": "code",
   "execution_count": null,
   "metadata": {},
   "outputs": [],
   "source": []
  }
 ],
 "metadata": {
  "interpreter": {
   "hash": "2e3c1e8da6e821b0193601da5a0e541c0efda9704da45b6b820f5f4c317f2def"
  },
  "kernelspec": {
   "display_name": "Python 3.9.7 64-bit",
   "language": "python",
   "name": "python3"
  },
  "language_info": {
   "codemirror_mode": {
    "name": "ipython",
    "version": 3
   },
   "file_extension": ".py",
   "mimetype": "text/x-python",
   "name": "python",
   "nbconvert_exporter": "python",
   "pygments_lexer": "ipython3",
   "version": "3.9.7"
  },
  "orig_nbformat": 4
 },
 "nbformat": 4,
 "nbformat_minor": 2
}
